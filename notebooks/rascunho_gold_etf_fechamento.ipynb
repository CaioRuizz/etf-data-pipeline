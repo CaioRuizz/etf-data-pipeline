{
 "cells": [
  {
   "cell_type": "code",
   "execution_count": 1,
   "id": "initial_id",
   "metadata": {
    "collapsed": true,
    "ExecuteTime": {
     "end_time": "2024-02-14T22:32:41.460353400Z",
     "start_time": "2024-02-14T22:32:33.039975200Z"
    }
   },
   "outputs": [],
   "source": [
    "from pyspark.sql import SparkSession\n",
    "spark = SparkSession.builder.getOrCreate()"
   ]
  },
  {
   "cell_type": "code",
   "outputs": [],
   "source": [
    "negocicacao_etf_silver = spark.read.parquet('../files/silver/negociacao_etf')"
   ],
   "metadata": {
    "collapsed": false,
    "ExecuteTime": {
     "end_time": "2024-02-14T22:32:48.144479300Z",
     "start_time": "2024-02-14T22:32:41.469635800Z"
    }
   },
   "id": "2f4ce6d607bb1da1",
   "execution_count": 2
  },
  {
   "cell_type": "code",
   "outputs": [],
   "source": [
    "negociacao_etf_gold = negocicacao_etf_silver.select(['CodNeg', 'Data', 'PrecoAbertura', 'PrecoUltimo'])"
   ],
   "metadata": {
    "collapsed": false,
    "ExecuteTime": {
     "end_time": "2024-02-14T22:32:48.332157600Z",
     "start_time": "2024-02-14T22:32:48.153760600Z"
    }
   },
   "id": "b61d57154bc971fe",
   "execution_count": 3
  },
  {
   "cell_type": "code",
   "outputs": [
    {
     "data": {
      "text/plain": "       CodNeg        Data PrecoAbertura PrecoUltimo\n0      BOVA11  2014-07-22     56.000000   56.450000\n1      BOVA11  2014-07-23     56.000000   55.930000\n2      BOVA11  2014-07-24     56.150000   56.390000\n3      BOVA11  2014-07-25     56.300000   56.340000\n4      BOVA11  2014-07-28     56.370000   56.160000\n...       ...         ...           ...         ...\n80291  BBOI11  2022-12-05      9.350000    8.980000\n80292  BBOI11  2022-12-07      8.840000    8.880000\n80293  BBOI11  2022-12-09      9.000000    8.900000\n80294  BBOI11  2022-12-08      8.710000    8.980000\n80295  ISUS11  2011-11-03     19.900000   19.900000\n\n[80296 rows x 4 columns]",
      "text/html": "<div>\n<style scoped>\n    .dataframe tbody tr th:only-of-type {\n        vertical-align: middle;\n    }\n\n    .dataframe tbody tr th {\n        vertical-align: top;\n    }\n\n    .dataframe thead th {\n        text-align: right;\n    }\n</style>\n<table border=\"1\" class=\"dataframe\">\n  <thead>\n    <tr style=\"text-align: right;\">\n      <th></th>\n      <th>CodNeg</th>\n      <th>Data</th>\n      <th>PrecoAbertura</th>\n      <th>PrecoUltimo</th>\n    </tr>\n  </thead>\n  <tbody>\n    <tr>\n      <th>0</th>\n      <td>BOVA11</td>\n      <td>2014-07-22</td>\n      <td>56.000000</td>\n      <td>56.450000</td>\n    </tr>\n    <tr>\n      <th>1</th>\n      <td>BOVA11</td>\n      <td>2014-07-23</td>\n      <td>56.000000</td>\n      <td>55.930000</td>\n    </tr>\n    <tr>\n      <th>2</th>\n      <td>BOVA11</td>\n      <td>2014-07-24</td>\n      <td>56.150000</td>\n      <td>56.390000</td>\n    </tr>\n    <tr>\n      <th>3</th>\n      <td>BOVA11</td>\n      <td>2014-07-25</td>\n      <td>56.300000</td>\n      <td>56.340000</td>\n    </tr>\n    <tr>\n      <th>4</th>\n      <td>BOVA11</td>\n      <td>2014-07-28</td>\n      <td>56.370000</td>\n      <td>56.160000</td>\n    </tr>\n    <tr>\n      <th>...</th>\n      <td>...</td>\n      <td>...</td>\n      <td>...</td>\n      <td>...</td>\n    </tr>\n    <tr>\n      <th>80291</th>\n      <td>BBOI11</td>\n      <td>2022-12-05</td>\n      <td>9.350000</td>\n      <td>8.980000</td>\n    </tr>\n    <tr>\n      <th>80292</th>\n      <td>BBOI11</td>\n      <td>2022-12-07</td>\n      <td>8.840000</td>\n      <td>8.880000</td>\n    </tr>\n    <tr>\n      <th>80293</th>\n      <td>BBOI11</td>\n      <td>2022-12-09</td>\n      <td>9.000000</td>\n      <td>8.900000</td>\n    </tr>\n    <tr>\n      <th>80294</th>\n      <td>BBOI11</td>\n      <td>2022-12-08</td>\n      <td>8.710000</td>\n      <td>8.980000</td>\n    </tr>\n    <tr>\n      <th>80295</th>\n      <td>ISUS11</td>\n      <td>2011-11-03</td>\n      <td>19.900000</td>\n      <td>19.900000</td>\n    </tr>\n  </tbody>\n</table>\n<p>80296 rows × 4 columns</p>\n</div>"
     },
     "execution_count": 4,
     "metadata": {},
     "output_type": "execute_result"
    }
   ],
   "source": [
    "negociacao_etf_gold.toPandas()"
   ],
   "metadata": {
    "collapsed": false,
    "ExecuteTime": {
     "end_time": "2024-02-14T22:32:57.385360700Z",
     "start_time": "2024-02-14T22:32:48.340172900Z"
    }
   },
   "id": "f83f697162c39c1f",
   "execution_count": 4
  },
  {
   "cell_type": "code",
   "outputs": [],
   "source": [],
   "metadata": {
    "collapsed": false,
    "ExecuteTime": {
     "end_time": "2024-02-14T22:32:57.396138Z",
     "start_time": "2024-02-14T22:32:57.389565900Z"
    }
   },
   "id": "c7170de9d8e3d482",
   "execution_count": 4
  }
 ],
 "metadata": {
  "kernelspec": {
   "display_name": "Python 3",
   "language": "python",
   "name": "python3"
  },
  "language_info": {
   "codemirror_mode": {
    "name": "ipython",
    "version": 2
   },
   "file_extension": ".py",
   "mimetype": "text/x-python",
   "name": "python",
   "nbconvert_exporter": "python",
   "pygments_lexer": "ipython2",
   "version": "2.7.6"
  }
 },
 "nbformat": 4,
 "nbformat_minor": 5
}
