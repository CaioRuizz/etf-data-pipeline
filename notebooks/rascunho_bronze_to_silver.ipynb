{
 "cells": [
  {
   "cell_type": "code",
   "execution_count": 1,
   "id": "initial_id",
   "metadata": {
    "collapsed": true,
    "ExecuteTime": {
     "end_time": "2024-02-13T22:02:19.481054100Z",
     "start_time": "2024-02-13T22:01:56.553547600Z"
    }
   },
   "outputs": [],
   "source": [
    "from pyspark.sql import SparkSession\n",
    "spark = SparkSession.builder.getOrCreate()"
   ]
  },
  {
   "cell_type": "code",
   "outputs": [],
   "source": [
    "import requests\n",
    "from pyspark.sql.functions import col"
   ],
   "metadata": {
    "collapsed": false,
    "ExecuteTime": {
     "end_time": "2024-02-13T22:02:19.758419500Z",
     "start_time": "2024-02-13T22:02:19.482055Z"
    }
   },
   "id": "e15fecb6cdc32470",
   "execution_count": 2
  },
  {
   "cell_type": "code",
   "outputs": [
    {
     "data": {
      "text/plain": "['IMAB11',\n 'USTK11',\n '5GTK11',\n 'XFIX11',\n 'NASD11',\n 'BOVS11',\n 'BDAP11',\n 'B5P211',\n 'HTEK11',\n 'SCVB11',\n 'ESGE11',\n 'TECK11',\n 'BRAX11',\n 'BBSD11',\n 'MILL11',\n 'QETH11',\n 'SMAC11',\n 'WEB311',\n 'BBOI11',\n 'BREW11',\n 'BMMT11',\n 'BTEK11',\n 'SHOT11',\n 'ESGB11',\n 'BDEF11',\n 'REVE11',\n 'ETHE11',\n 'ACWI11',\n 'GOLD11',\n 'FOOD11',\n 'CRPT11',\n 'EURP11',\n 'ELAS11',\n 'WRLD11',\n 'BXPO11',\n 'NSDV11',\n 'BBOV11',\n 'IBOB11',\n 'XBOV11',\n 'LFTS11',\n 'QBTC11',\n 'CMDB11',\n 'FIND11',\n 'GENB11',\n 'NDIV11',\n 'BOVB11',\n 'QDFI11',\n 'IMBB11',\n 'BLOK11',\n 'IRFM11',\n 'BOVV11',\n 'B5MB11',\n 'SMAL11',\n 'ESGU11',\n 'BCIC11',\n 'PEVC11',\n 'CORN11',\n 'USAL11',\n 'FIXA11',\n 'BITH11',\n 'IVVB11',\n 'SPXB11',\n 'BOVA11',\n 'IB5M11',\n 'META11',\n 'XINA11',\n 'BOVX11',\n 'BITI11',\n 'HASH11',\n 'DIVO11',\n 'BDOM11',\n 'SPXI11',\n 'YDRO11',\n 'ISUS11',\n 'JOGO11',\n 'MATB11',\n 'NTNS11',\n 'TRIG11',\n 'URET11',\n 'GURU11',\n 'DEFI11',\n 'GOVE11',\n 'SVAL11',\n 'AGRI11',\n 'ESGD11',\n 'PIBB11',\n 'DVER11',\n 'DEBB11',\n 'ALUG11',\n 'DNAI11',\n 'TECB11',\n 'SMAB11',\n 'NFTS11',\n 'ECOO11',\n 'UTEC11']"
     },
     "execution_count": 3,
     "metadata": {},
     "output_type": "execute_result"
    }
   ],
   "source": [
    "etfs = requests.get('https://sgk6cc5a25.execute-api.sa-east-1.amazonaws.com/Prod/api/v1/etf/tickers').json()\n",
    "etfs = [i['ticker'] for i in etfs]\n",
    "etfs"
   ],
   "metadata": {
    "collapsed": false,
    "ExecuteTime": {
     "end_time": "2024-02-13T22:02:21.104446500Z",
     "start_time": "2024-02-13T22:02:19.761430600Z"
    }
   },
   "id": "7d06ab7fc69b0ffe",
   "execution_count": 3
  },
  {
   "cell_type": "code",
   "outputs": [],
   "source": [
    "negociacao = spark.read.parquet('../files/bronze/negociacao')"
   ],
   "metadata": {
    "collapsed": false,
    "ExecuteTime": {
     "end_time": "2024-02-13T22:02:44.521199900Z",
     "start_time": "2024-02-13T22:02:41.192331300Z"
    }
   },
   "id": "a182f1cdffc5e722",
   "execution_count": 5
  },
  {
   "cell_type": "code",
   "outputs": [],
   "source": [
    "negocicacao_silver = negociacao.where(col('CodNeg').isin(etfs))\\\n",
    "    .select(['Data',\n",
    "             'CodNeg',\n",
    "             'CodBdi',\n",
    "             'Empresa',\n",
    "             'Especificacao',\n",
    "             'Moeda',\n",
    "             'PrecoAbertura',\n",
    "             'PrecoUltimo',\n",
    "             'NumeroNegocio',\n",
    "             'VolumeFinanceiro',\n",
    "             'QuantidadeNegociada',\n",
    "             ])"
   ],
   "metadata": {
    "collapsed": false,
    "ExecuteTime": {
     "end_time": "2024-02-13T22:02:46.117060700Z",
     "start_time": "2024-02-13T22:02:45.672738700Z"
    }
   },
   "id": "6a9989ede2b00244",
   "execution_count": 6
  },
  {
   "cell_type": "code",
   "outputs": [
    {
     "data": {
      "text/plain": "             Data  CodNeg CodBdi       Empresa Especificacao Moeda  \\\n0      2023-07-03  USAL11     14  TREND US LRG            CI    R$   \n1      2023-07-03  WEB311     14    SMART HASH            CI    R$   \n2      2023-07-03  BRAX11     14  ISHARES BRAX            CI    R$   \n3      2023-07-03  BREW11     14  B INDEX BREW            CI    R$   \n4      2023-07-03  GOLD11     14    TREND OURO            CI    R$   \n...           ...     ...    ...           ...           ...   ...   \n80291  2005-12-23  PIBB11     14          PIBB            CI    R$   \n80292  2005-12-26  PIBB11     14          PIBB            CI    R$   \n80293  2005-12-27  PIBB11     14          PIBB            CI    R$   \n80294  2005-12-28  PIBB11     14          PIBB            CI    R$   \n80295  2005-12-29  PIBB11     14          PIBB            CI    R$   \n\n      PrecoAbertura PrecoUltimo NumeroNegocio VolumeFinanceiro  \\\n0          8.920000    9.000000        396.00       7560604.00   \n1         13.200000   13.590000         35.00       2079866.00   \n2         96.410000   99.210000         25.00       8267754.00   \n3        116.950000  117.100000          4.00       2544747.00   \n4          9.760000    9.730000       2349.00     224931566.00   \n...             ...         ...           ...              ...   \n80291     48.000000   47.900000         88.00     191140400.00   \n80292     47.990000   47.700000         79.00     236956600.00   \n80293     47.700000   47.800000         91.00     283671100.00   \n80294     47.750000   47.500000         82.00     210560100.00   \n80295     47.690000   47.750000         91.00     229878700.00   \n\n      QuantidadeNegociada  \n0                 8534.00  \n1                 1532.00  \n2                  839.00  \n3                  217.00  \n4               231018.00  \n...                   ...  \n80291            39800.00  \n80292            49900.00  \n80293            59300.00  \n80294            44300.00  \n80295            48200.00  \n\n[80296 rows x 11 columns]",
      "text/html": "<div>\n<style scoped>\n    .dataframe tbody tr th:only-of-type {\n        vertical-align: middle;\n    }\n\n    .dataframe tbody tr th {\n        vertical-align: top;\n    }\n\n    .dataframe thead th {\n        text-align: right;\n    }\n</style>\n<table border=\"1\" class=\"dataframe\">\n  <thead>\n    <tr style=\"text-align: right;\">\n      <th></th>\n      <th>Data</th>\n      <th>CodNeg</th>\n      <th>CodBdi</th>\n      <th>Empresa</th>\n      <th>Especificacao</th>\n      <th>Moeda</th>\n      <th>PrecoAbertura</th>\n      <th>PrecoUltimo</th>\n      <th>NumeroNegocio</th>\n      <th>VolumeFinanceiro</th>\n      <th>QuantidadeNegociada</th>\n    </tr>\n  </thead>\n  <tbody>\n    <tr>\n      <th>0</th>\n      <td>2023-07-03</td>\n      <td>USAL11</td>\n      <td>14</td>\n      <td>TREND US LRG</td>\n      <td>CI</td>\n      <td>R$</td>\n      <td>8.920000</td>\n      <td>9.000000</td>\n      <td>396.00</td>\n      <td>7560604.00</td>\n      <td>8534.00</td>\n    </tr>\n    <tr>\n      <th>1</th>\n      <td>2023-07-03</td>\n      <td>WEB311</td>\n      <td>14</td>\n      <td>SMART HASH</td>\n      <td>CI</td>\n      <td>R$</td>\n      <td>13.200000</td>\n      <td>13.590000</td>\n      <td>35.00</td>\n      <td>2079866.00</td>\n      <td>1532.00</td>\n    </tr>\n    <tr>\n      <th>2</th>\n      <td>2023-07-03</td>\n      <td>BRAX11</td>\n      <td>14</td>\n      <td>ISHARES BRAX</td>\n      <td>CI</td>\n      <td>R$</td>\n      <td>96.410000</td>\n      <td>99.210000</td>\n      <td>25.00</td>\n      <td>8267754.00</td>\n      <td>839.00</td>\n    </tr>\n    <tr>\n      <th>3</th>\n      <td>2023-07-03</td>\n      <td>BREW11</td>\n      <td>14</td>\n      <td>B INDEX BREW</td>\n      <td>CI</td>\n      <td>R$</td>\n      <td>116.950000</td>\n      <td>117.100000</td>\n      <td>4.00</td>\n      <td>2544747.00</td>\n      <td>217.00</td>\n    </tr>\n    <tr>\n      <th>4</th>\n      <td>2023-07-03</td>\n      <td>GOLD11</td>\n      <td>14</td>\n      <td>TREND OURO</td>\n      <td>CI</td>\n      <td>R$</td>\n      <td>9.760000</td>\n      <td>9.730000</td>\n      <td>2349.00</td>\n      <td>224931566.00</td>\n      <td>231018.00</td>\n    </tr>\n    <tr>\n      <th>...</th>\n      <td>...</td>\n      <td>...</td>\n      <td>...</td>\n      <td>...</td>\n      <td>...</td>\n      <td>...</td>\n      <td>...</td>\n      <td>...</td>\n      <td>...</td>\n      <td>...</td>\n      <td>...</td>\n    </tr>\n    <tr>\n      <th>80291</th>\n      <td>2005-12-23</td>\n      <td>PIBB11</td>\n      <td>14</td>\n      <td>PIBB</td>\n      <td>CI</td>\n      <td>R$</td>\n      <td>48.000000</td>\n      <td>47.900000</td>\n      <td>88.00</td>\n      <td>191140400.00</td>\n      <td>39800.00</td>\n    </tr>\n    <tr>\n      <th>80292</th>\n      <td>2005-12-26</td>\n      <td>PIBB11</td>\n      <td>14</td>\n      <td>PIBB</td>\n      <td>CI</td>\n      <td>R$</td>\n      <td>47.990000</td>\n      <td>47.700000</td>\n      <td>79.00</td>\n      <td>236956600.00</td>\n      <td>49900.00</td>\n    </tr>\n    <tr>\n      <th>80293</th>\n      <td>2005-12-27</td>\n      <td>PIBB11</td>\n      <td>14</td>\n      <td>PIBB</td>\n      <td>CI</td>\n      <td>R$</td>\n      <td>47.700000</td>\n      <td>47.800000</td>\n      <td>91.00</td>\n      <td>283671100.00</td>\n      <td>59300.00</td>\n    </tr>\n    <tr>\n      <th>80294</th>\n      <td>2005-12-28</td>\n      <td>PIBB11</td>\n      <td>14</td>\n      <td>PIBB</td>\n      <td>CI</td>\n      <td>R$</td>\n      <td>47.750000</td>\n      <td>47.500000</td>\n      <td>82.00</td>\n      <td>210560100.00</td>\n      <td>44300.00</td>\n    </tr>\n    <tr>\n      <th>80295</th>\n      <td>2005-12-29</td>\n      <td>PIBB11</td>\n      <td>14</td>\n      <td>PIBB</td>\n      <td>CI</td>\n      <td>R$</td>\n      <td>47.690000</td>\n      <td>47.750000</td>\n      <td>91.00</td>\n      <td>229878700.00</td>\n      <td>48200.00</td>\n    </tr>\n  </tbody>\n</table>\n<p>80296 rows × 11 columns</p>\n</div>"
     },
     "execution_count": 7,
     "metadata": {},
     "output_type": "execute_result"
    }
   ],
   "source": [
    "negocicacao_silver.toPandas()"
   ],
   "metadata": {
    "collapsed": false,
    "ExecuteTime": {
     "end_time": "2024-02-13T22:02:56.823521400Z",
     "start_time": "2024-02-13T22:02:46.918874600Z"
    }
   },
   "id": "5f2bc1b1a51e9475",
   "execution_count": 7
  },
  {
   "cell_type": "code",
   "outputs": [],
   "source": [],
   "metadata": {
    "collapsed": false,
    "ExecuteTime": {
     "start_time": "2024-02-13T22:02:24.792905700Z"
    }
   },
   "id": "e92a80de05d9ec7a",
   "execution_count": null
  }
 ],
 "metadata": {
  "kernelspec": {
   "display_name": "Python 3",
   "language": "python",
   "name": "python3"
  },
  "language_info": {
   "codemirror_mode": {
    "name": "ipython",
    "version": 2
   },
   "file_extension": ".py",
   "mimetype": "text/x-python",
   "name": "python",
   "nbconvert_exporter": "python",
   "pygments_lexer": "ipython2",
   "version": "2.7.6"
  }
 },
 "nbformat": 4,
 "nbformat_minor": 5
}
