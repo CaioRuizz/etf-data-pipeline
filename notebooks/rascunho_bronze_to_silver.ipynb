{
 "cells": [
  {
   "cell_type": "code",
   "execution_count": 1,
   "id": "initial_id",
   "metadata": {
    "collapsed": true,
    "ExecuteTime": {
     "end_time": "2024-02-12T22:13:58.101386Z",
     "start_time": "2024-02-12T22:13:53.984651Z"
    }
   },
   "outputs": [
    {
     "name": "stderr",
     "output_type": "stream",
     "text": [
      "24/02/12 19:13:56 WARN Utils: Your hostname, Mac-Pro-de-Caio-Ruiz.local resolves to a loopback address: 127.0.0.1; using 192.168.15.5 instead (on interface en2)\n",
      "24/02/12 19:13:56 WARN Utils: Set SPARK_LOCAL_IP if you need to bind to another address\n",
      "Setting default log level to \"WARN\".\n",
      "To adjust logging level use sc.setLogLevel(newLevel). For SparkR, use setLogLevel(newLevel).\n",
      "24/02/12 19:13:56 WARN NativeCodeLoader: Unable to load native-hadoop library for your platform... using builtin-java classes where applicable\n"
     ]
    }
   ],
   "source": [
    "from pyspark.sql import SparkSession\n",
    "spark = SparkSession.builder.getOrCreate()"
   ]
  },
  {
   "cell_type": "code",
   "outputs": [
    {
     "name": "stderr",
     "output_type": "stream",
     "text": [
      "/Users/caio/PycharmProjects/etf-data-pipeline/.venv/lib/python3.9/site-packages/urllib3/__init__.py:35: NotOpenSSLWarning: urllib3 v2 only supports OpenSSL 1.1.1+, currently the 'ssl' module is compiled with 'LibreSSL 2.8.3'. See: https://github.com/urllib3/urllib3/issues/3020\n",
      "  warnings.warn(\n"
     ]
    }
   ],
   "source": [
    "import requests\n",
    "from pyspark.sql.functions import col"
   ],
   "metadata": {
    "collapsed": false,
    "ExecuteTime": {
     "end_time": "2024-02-12T22:13:58.242424Z",
     "start_time": "2024-02-12T22:13:58.106269Z"
    }
   },
   "id": "e15fecb6cdc32470",
   "execution_count": 2
  },
  {
   "cell_type": "code",
   "outputs": [
    {
     "data": {
      "text/plain": "['IMAB11',\n 'USTK11',\n '5GTK11',\n 'XFIX11',\n 'NASD11',\n 'BOVS11',\n 'BDAP11',\n 'B5P211',\n 'HTEK11',\n 'SCVB11',\n 'ESGE11',\n 'TECK11',\n 'BRAX11',\n 'BBSD11',\n 'MILL11',\n 'QETH11',\n 'SMAC11',\n 'WEB311',\n 'BBOI11',\n 'BREW11',\n 'BMMT11',\n 'BTEK11',\n 'SHOT11',\n 'ESGB11',\n 'BDEF11',\n 'REVE11',\n 'ETHE11',\n 'ACWI11',\n 'GOLD11',\n 'FOOD11',\n 'CRPT11',\n 'EURP11',\n 'ELAS11',\n 'WRLD11',\n 'BXPO11',\n 'NSDV11',\n 'BBOV11',\n 'IBOB11',\n 'XBOV11',\n 'LFTS11',\n 'QBTC11',\n 'CMDB11',\n 'FIND11',\n 'GENB11',\n 'NDIV11',\n 'BOVB11',\n 'QDFI11',\n 'IMBB11',\n 'BLOK11',\n 'IRFM11',\n 'BOVV11',\n 'B5MB11',\n 'SMAL11',\n 'ESGU11',\n 'BCIC11',\n 'PEVC11',\n 'CORN11',\n 'USAL11',\n 'FIXA11',\n 'BITH11',\n 'IVVB11',\n 'SPXB11',\n 'BOVA11',\n 'IB5M11',\n 'META11',\n 'XINA11',\n 'BOVX11',\n 'BITI11',\n 'HASH11',\n 'DIVO11',\n 'BDOM11',\n 'SPXI11',\n 'YDRO11',\n 'ISUS11',\n 'JOGO11',\n 'MATB11',\n 'NTNS11',\n 'TRIG11',\n 'URET11',\n 'GURU11',\n 'DEFI11',\n 'GOVE11',\n 'SVAL11',\n 'AGRI11',\n 'ESGD11',\n 'PIBB11',\n 'DVER11',\n 'DEBB11',\n 'ALUG11',\n 'DNAI11',\n 'TECB11',\n 'SMAB11',\n 'NFTS11',\n 'ECOO11',\n 'UTEC11']"
     },
     "execution_count": 3,
     "metadata": {},
     "output_type": "execute_result"
    }
   ],
   "source": [
    "etfs = requests.get('https://sgk6cc5a25.execute-api.sa-east-1.amazonaws.com/Prod/api/v1/etf/tickers').json()\n",
    "etfs = [i['ticker'] for i in etfs]\n",
    "etfs"
   ],
   "metadata": {
    "collapsed": false,
    "ExecuteTime": {
     "end_time": "2024-02-12T22:14:03.585780Z",
     "start_time": "2024-02-12T22:13:58.241996Z"
    }
   },
   "id": "7d06ab7fc69b0ffe",
   "execution_count": 3
  },
  {
   "cell_type": "code",
   "outputs": [
    {
     "name": "stderr",
     "output_type": "stream",
     "text": [
      "                                                                                \r"
     ]
    }
   ],
   "source": [
    "negociacao = spark.read.parquet('../bronze/negociacao')"
   ],
   "metadata": {
    "collapsed": false,
    "ExecuteTime": {
     "end_time": "2024-02-12T22:14:07.360896Z",
     "start_time": "2024-02-12T22:14:03.585415Z"
    }
   },
   "id": "a182f1cdffc5e722",
   "execution_count": 4
  },
  {
   "cell_type": "code",
   "outputs": [],
   "source": [
    "negocicacao_silver = negociacao.where(col('CodNeg').isin(etfs))\\\n",
    "    .select(['Data',\n",
    "             'CodNeg',\n",
    "             'CodBdi',\n",
    "             'Empresa',\n",
    "             'Especificacao',\n",
    "             'Moeda',\n",
    "             'PrecoAbertura',\n",
    "             'PrecoUltimo',\n",
    "             'NumeroNegocio',\n",
    "             'VolumeFinanceiro',\n",
    "             'QuantidadeNegociada',\n",
    "             ])"
   ],
   "metadata": {
    "collapsed": false,
    "ExecuteTime": {
     "end_time": "2024-02-12T22:14:07.671894Z",
     "start_time": "2024-02-12T22:14:07.368632Z"
    }
   },
   "id": "6a9989ede2b00244",
   "execution_count": 5
  },
  {
   "cell_type": "code",
   "outputs": [
    {
     "name": "stderr",
     "output_type": "stream",
     "text": [
      "24/02/12 19:14:09 WARN GarbageCollectionMetrics: To enable non-built-in garbage collector(s) List(G1 Concurrent GC), users should configure it(them) to spark.eventLog.gcMetrics.youngGenerationGarbageCollectors or spark.eventLog.gcMetrics.oldGenerationGarbageCollectors\n",
      "                                                                                \r"
     ]
    },
    {
     "data": {
      "text/plain": "             Data  CodNeg CodBdi       Empresa Especificacao Moeda  \\\n0      2023-09-13  SVAL11     14  INVESTO SVAL            CI    R$   \n1      2023-09-13  TECB11     14   TECH BRASIL            CI    R$   \n2      2023-09-13  TECK11     14   IT NOW TECK            CI    R$   \n3      2023-09-13  ISUS11     14    IT NOW ISE            CI    R$   \n4      2023-09-13  MILL11     14   IT NOW MILL            CI    R$   \n...           ...     ...    ...           ...           ...   ...   \n80291  2015-12-30  MATB11     14   IT NOW IMAT            CI    R$   \n80292  2015-12-30  PIBB11     14   IT NOW PIBB            CI    R$   \n80293  2015-12-30  SMAL11     14  ISHARES SMAL            CI    R$   \n80294  2015-12-30  SPXI11     14   IT NOW SPXI            CI    R$   \n80295  2015-12-30  XBOV11     14  CAIXAETFXBOV            CI    R$   \n\n      PrecoAbertura PrecoUltimo NumeroNegocio VolumeFinanceiro  \\\n0         98.020000   96.890000          8.00       6138240.00   \n1         17.670000   17.730000         26.00       1720790.00   \n2         50.720000   50.590000         34.00      12630573.00   \n3         34.410000   34.290000          3.00       1242624.00   \n4         48.300000   48.430000         20.00       1680467.00   \n...             ...         ...           ...              ...   \n80291     13.550000   13.550000          1.00      35921050.00   \n80292     75.820000   75.000000        684.00     825362680.00   \n80293     41.140000   41.530000          5.00       1649620.00   \n80294     83.100000   83.100000         10.00    1426827000.00   \n80295     40.000000   43.340000         47.00     176346210.00   \n\n      QuantidadeNegociada  \n0                  630.00  \n1                  970.00  \n2                 2500.00  \n3                  362.00  \n4                  349.00  \n...                   ...  \n80291            26510.00  \n80292           110000.00  \n80293              400.00  \n80294           171700.00  \n80295            40650.00  \n\n[80296 rows x 11 columns]",
      "text/html": "<div>\n<style scoped>\n    .dataframe tbody tr th:only-of-type {\n        vertical-align: middle;\n    }\n\n    .dataframe tbody tr th {\n        vertical-align: top;\n    }\n\n    .dataframe thead th {\n        text-align: right;\n    }\n</style>\n<table border=\"1\" class=\"dataframe\">\n  <thead>\n    <tr style=\"text-align: right;\">\n      <th></th>\n      <th>Data</th>\n      <th>CodNeg</th>\n      <th>CodBdi</th>\n      <th>Empresa</th>\n      <th>Especificacao</th>\n      <th>Moeda</th>\n      <th>PrecoAbertura</th>\n      <th>PrecoUltimo</th>\n      <th>NumeroNegocio</th>\n      <th>VolumeFinanceiro</th>\n      <th>QuantidadeNegociada</th>\n    </tr>\n  </thead>\n  <tbody>\n    <tr>\n      <th>0</th>\n      <td>2023-09-13</td>\n      <td>SVAL11</td>\n      <td>14</td>\n      <td>INVESTO SVAL</td>\n      <td>CI</td>\n      <td>R$</td>\n      <td>98.020000</td>\n      <td>96.890000</td>\n      <td>8.00</td>\n      <td>6138240.00</td>\n      <td>630.00</td>\n    </tr>\n    <tr>\n      <th>1</th>\n      <td>2023-09-13</td>\n      <td>TECB11</td>\n      <td>14</td>\n      <td>TECH BRASIL</td>\n      <td>CI</td>\n      <td>R$</td>\n      <td>17.670000</td>\n      <td>17.730000</td>\n      <td>26.00</td>\n      <td>1720790.00</td>\n      <td>970.00</td>\n    </tr>\n    <tr>\n      <th>2</th>\n      <td>2023-09-13</td>\n      <td>TECK11</td>\n      <td>14</td>\n      <td>IT NOW TECK</td>\n      <td>CI</td>\n      <td>R$</td>\n      <td>50.720000</td>\n      <td>50.590000</td>\n      <td>34.00</td>\n      <td>12630573.00</td>\n      <td>2500.00</td>\n    </tr>\n    <tr>\n      <th>3</th>\n      <td>2023-09-13</td>\n      <td>ISUS11</td>\n      <td>14</td>\n      <td>IT NOW ISE</td>\n      <td>CI</td>\n      <td>R$</td>\n      <td>34.410000</td>\n      <td>34.290000</td>\n      <td>3.00</td>\n      <td>1242624.00</td>\n      <td>362.00</td>\n    </tr>\n    <tr>\n      <th>4</th>\n      <td>2023-09-13</td>\n      <td>MILL11</td>\n      <td>14</td>\n      <td>IT NOW MILL</td>\n      <td>CI</td>\n      <td>R$</td>\n      <td>48.300000</td>\n      <td>48.430000</td>\n      <td>20.00</td>\n      <td>1680467.00</td>\n      <td>349.00</td>\n    </tr>\n    <tr>\n      <th>...</th>\n      <td>...</td>\n      <td>...</td>\n      <td>...</td>\n      <td>...</td>\n      <td>...</td>\n      <td>...</td>\n      <td>...</td>\n      <td>...</td>\n      <td>...</td>\n      <td>...</td>\n      <td>...</td>\n    </tr>\n    <tr>\n      <th>80291</th>\n      <td>2015-12-30</td>\n      <td>MATB11</td>\n      <td>14</td>\n      <td>IT NOW IMAT</td>\n      <td>CI</td>\n      <td>R$</td>\n      <td>13.550000</td>\n      <td>13.550000</td>\n      <td>1.00</td>\n      <td>35921050.00</td>\n      <td>26510.00</td>\n    </tr>\n    <tr>\n      <th>80292</th>\n      <td>2015-12-30</td>\n      <td>PIBB11</td>\n      <td>14</td>\n      <td>IT NOW PIBB</td>\n      <td>CI</td>\n      <td>R$</td>\n      <td>75.820000</td>\n      <td>75.000000</td>\n      <td>684.00</td>\n      <td>825362680.00</td>\n      <td>110000.00</td>\n    </tr>\n    <tr>\n      <th>80293</th>\n      <td>2015-12-30</td>\n      <td>SMAL11</td>\n      <td>14</td>\n      <td>ISHARES SMAL</td>\n      <td>CI</td>\n      <td>R$</td>\n      <td>41.140000</td>\n      <td>41.530000</td>\n      <td>5.00</td>\n      <td>1649620.00</td>\n      <td>400.00</td>\n    </tr>\n    <tr>\n      <th>80294</th>\n      <td>2015-12-30</td>\n      <td>SPXI11</td>\n      <td>14</td>\n      <td>IT NOW SPXI</td>\n      <td>CI</td>\n      <td>R$</td>\n      <td>83.100000</td>\n      <td>83.100000</td>\n      <td>10.00</td>\n      <td>1426827000.00</td>\n      <td>171700.00</td>\n    </tr>\n    <tr>\n      <th>80295</th>\n      <td>2015-12-30</td>\n      <td>XBOV11</td>\n      <td>14</td>\n      <td>CAIXAETFXBOV</td>\n      <td>CI</td>\n      <td>R$</td>\n      <td>40.000000</td>\n      <td>43.340000</td>\n      <td>47.00</td>\n      <td>176346210.00</td>\n      <td>40650.00</td>\n    </tr>\n  </tbody>\n</table>\n<p>80296 rows × 11 columns</p>\n</div>"
     },
     "execution_count": 6,
     "metadata": {},
     "output_type": "execute_result"
    }
   ],
   "source": [
    "negocicacao_silver.toPandas()"
   ],
   "metadata": {
    "collapsed": false,
    "ExecuteTime": {
     "end_time": "2024-02-12T22:14:14.577329Z",
     "start_time": "2024-02-12T22:14:07.673398Z"
    }
   },
   "id": "5f2bc1b1a51e9475",
   "execution_count": 6
  },
  {
   "cell_type": "code",
   "outputs": [],
   "source": [],
   "metadata": {
    "collapsed": false,
    "ExecuteTime": {
     "end_time": "2024-02-12T22:14:14.584086Z",
     "start_time": "2024-02-12T22:14:14.580078Z"
    }
   },
   "id": "e92a80de05d9ec7a",
   "execution_count": 6
  }
 ],
 "metadata": {
  "kernelspec": {
   "display_name": "Python 3",
   "language": "python",
   "name": "python3"
  },
  "language_info": {
   "codemirror_mode": {
    "name": "ipython",
    "version": 2
   },
   "file_extension": ".py",
   "mimetype": "text/x-python",
   "name": "python",
   "nbconvert_exporter": "python",
   "pygments_lexer": "ipython2",
   "version": "2.7.6"
  }
 },
 "nbformat": 4,
 "nbformat_minor": 5
}
