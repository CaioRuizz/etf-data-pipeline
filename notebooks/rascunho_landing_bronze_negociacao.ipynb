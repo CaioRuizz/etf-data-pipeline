{
 "cells": [
  {
   "cell_type": "code",
   "execution_count": 1,
   "id": "66ce1cabe0c0513b",
   "metadata": {
    "collapsed": false,
    "ExecuteTime": {
     "end_time": "2024-02-11T04:27:22.115295900Z",
     "start_time": "2024-02-11T04:27:17.333957300Z"
    }
   },
   "outputs": [],
   "source": [
    "import requests\n",
    "import zipfile\n",
    "import io\n",
    "\n",
    "from pyspark.sql import SparkSession\n",
    "spark = SparkSession.builder.appName(\"carga_completa_rascunho\").config(\"spark.driver.memory\", \"15g\").getOrCreate()"
   ]
  },
  {
   "cell_type": "code",
   "execution_count": 2,
   "id": "d03d8588-1705-419b-ab0b-0e4387135708",
   "metadata": {
    "ExecuteTime": {
     "end_time": "2024-02-11T04:27:22.130298100Z",
     "start_time": "2024-02-11T04:27:22.113299900Z"
    }
   },
   "outputs": [],
   "source": [
    "from pyspark.sql.functions import col, to_date, substring, trim, split"
   ]
  },
  {
   "cell_type": "markdown",
   "id": "ab06d2467dda98d7",
   "metadata": {
    "collapsed": false
   },
   "source": [
    "# Baixando arquivos"
   ]
  },
  {
   "cell_type": "code",
   "execution_count": 3,
   "id": "792326c870dd8c43",
   "metadata": {
    "collapsed": false,
    "ExecuteTime": {
     "end_time": "2024-02-11T04:27:22.166298600Z",
     "start_time": "2024-02-11T04:27:22.131301400Z"
    }
   },
   "outputs": [],
   "source": [
    "url = 'https://bvmf.bmfbovespa.com.br/InstDados/SerHist/COTAHIST_A2023.ZIP'"
   ]
  },
  {
   "cell_type": "code",
   "execution_count": 4,
   "id": "3c7ed24f251f57dc",
   "metadata": {
    "collapsed": false,
    "ExecuteTime": {
     "end_time": "2024-02-11T04:27:28.773928200Z",
     "start_time": "2024-02-11T04:27:22.151296500Z"
    }
   },
   "outputs": [],
   "source": [
    "r = requests.get(url)\n",
    "z = zipfile.ZipFile(io.BytesIO(r.content))\n",
    "z.extractall()"
   ]
  },
  {
   "cell_type": "code",
   "execution_count": 5,
   "id": "987b207281ef4af3",
   "metadata": {
    "collapsed": false,
    "ExecuteTime": {
     "end_time": "2024-02-11T04:27:32.149536600Z",
     "start_time": "2024-02-11T04:27:28.789890500Z"
    }
   },
   "outputs": [],
   "source": [
    "df = spark.read.text('COTAHIST_A2023.TXT')\n",
    "df = df.select(\n",
    "    df.value.substr(3, 8).alias(\"Data\"),\n",
    "    df.value.substr(11, 2).alias(\"CodBdi\"),\n",
    "    df.value.substr(13, 12).alias(\"CodNeg\"),\n",
    "    df.value.substr(25, 3).alias(\"TipoMercado\"),\n",
    "    df.value.substr(28, 12).alias(\"Empresa\"),\n",
    "    df.value.substr(40, 10).alias(\"Especificacao\"),\n",
    "    df.value.substr(50, 3).alias(\"Prazo\"),\n",
    "    df.value.substr(53, 4).alias(\"Moeda\"),\n",
    "    df.value.substr(57, 13).alias(\"PrecoAbertura\"),\n",
    "    df.value.substr(70, 13).alias(\"PrecoMaximo\"),\n",
    "    df.value.substr(83, 13).alias(\"PrecoMinimo\"),\n",
    "    df.value.substr(96, 13).alias(\"PrecoMedio\"),\n",
    "    df.value.substr(109, 13).alias(\"PrecoUltimo\"),\n",
    "    df.value.substr(122, 13).alias(\"MelhorOfertaCompra\"),\n",
    "    df.value.substr(135, 13).alias(\"MelhorOfertaVenda\"),\n",
    "    df.value.substr(148, 5).alias(\"NumeroNegocio\"),\n",
    "    df.value.substr(153, 18).alias(\"QuantidadeNegociada\"),\n",
    "    df.value.substr(171, 18).alias(\"VolumeFinanceiro\"),\n",
    "    df.value.substr(189, 12).alias(\"PrecoExercicio\"),\n",
    "    df.value.substr(202, 1).alias(\"IndicadorCorrecao\"),\n",
    "    df.value.substr(203, 8).alias(\"DataVencimento\"),\n",
    "    df.value.substr(211, 7).alias(\"FatorCotacao\"),\n",
    "    df.value.substr(218, 13).alias(\"PrecoExercicioPontos\"),\n",
    "    df.value.substr(231, 12).alias(\"CodIsin\"),\n",
    "    df.value.substr(243, 3).alias(\"NumeroDistribuicao\"),\n",
    ").where(trim(col(\"QuantidadeNegociada\")) != '')\n",
    "\n",
    "df = df.withColumn(\"Data\", to_date(substring(trim(col(\"Data\")), 1, 8), \"yyyyMMdd\"))\n",
    "df = df.withColumn(\"CodBdi\", trim(col(\"CodBdi\").cast(\"integer\")))\n",
    "df = df.withColumn(\"CodNeg\", trim(col(\"CodNeg\")))\n",
    "df = df.withColumn(\"TipoMercado\", trim(col(\"TipoMercado\").cast(\"integer\")))\n",
    "df = df.withColumn(\"Empresa\", trim(col(\"Empresa\")))\n",
    "df = df.withColumn(\"Especificacao\", split(col(\"Especificacao\"), \" \")[0])\n",
    "df = df.withColumn(\"Prazo\", trim(col(\"Prazo\")).cast(\"integer\"))\n",
    "df = df.withColumn(\"Moeda\", trim(col(\"Moeda\")))\n",
    "df = df.withColumn(\"PrecoAbertura\", trim(col(\"PrecoAbertura\")).cast(\"Decimal(18, 2)\") / 100)\n",
    "df = df.withColumn(\"PrecoMaximo\", trim(col(\"PrecoMaximo\")).cast(\"Decimal(18, 2)\") / 100)\n",
    "df = df.withColumn(\"PrecoMinimo\", trim(col(\"PrecoMinimo\")).cast(\"Decimal(18, 2)\") / 100)\n",
    "df = df.withColumn(\"PrecoMedio\", trim(col(\"PrecoMedio\")).cast(\"Decimal(18, 2)\") / 100)\n",
    "df = df.withColumn(\"PrecoUltimo\", trim(col(\"PrecoUltimo\")).cast(\"Decimal(18, 2)\") / 100)\n",
    "df = df.withColumn(\"MelhorOfertaCompra\", trim(col(\"MelhorOfertaCompra\")).cast(\"Decimal(18, 2)\") / 100)\n",
    "df = df.withColumn(\"MelhorOfertaVenda\", trim(col(\"MelhorOfertaVenda\")).cast(\"Decimal(18, 2)\") / 100)\n",
    "df = df.withColumn(\"NumeroNegocio\", trim(col(\"NumeroNegocio\")).cast(\"Decimal(18, 2)\"))\n",
    "df = df.withColumn(\"QuantidadeNegociada\", trim(col(\"QuantidadeNegociada\")).cast(\"Decimal(18, 2)\"))\n",
    "df = df.withColumn(\"VolumeFinanceiro\", trim(col(\"VolumeFinanceiro\")).cast(\"Decimal(18, 2)\"))\n",
    "df = df.withColumn(\"PrecoExercicio\", trim(col(\"PrecoExercicio\")).cast(\"Decimal(18, 2)\"))\n",
    "df = df.withColumn(\"IndicadorCorrecao\", trim(col(\"IndicadorCorrecao\")).cast(\"integer\"))\n",
    "df = df.withColumn(\"DataVencimento\", to_date(substring(trim(col(\"DataVencimento\")), 1, 8), \"yyyyMMdd\"))\n",
    "df = df.withColumn(\"FatorCotacao\", trim(col(\"FatorCotacao\")).cast(\"bigint\"))\n",
    "df = df.withColumn(\"PrecoExercicioPontos\", trim(col(\"PrecoExercicioPontos\")).cast(\"bigint\"))\n",
    "df = df.withColumn(\"CodIsin\", trim(col(\"CodIsin\")))\n",
    "df = df.withColumn(\"NumeroDistribuicao\", trim(col(\"NumeroDistribuicao\")).cast(\"bigint\"))\n"
   ]
  }
 ],
 "metadata": {
  "kernelspec": {
   "display_name": "Python 3 (ipykernel)",
   "language": "python",
   "name": "python3"
  },
  "language_info": {
   "codemirror_mode": {
    "name": "ipython",
    "version": 3
   },
   "file_extension": ".py",
   "mimetype": "text/x-python",
   "name": "python",
   "nbconvert_exporter": "python",
   "pygments_lexer": "ipython3",
   "version": "3.9.13"
  }
 },
 "nbformat": 4,
 "nbformat_minor": 5
}
